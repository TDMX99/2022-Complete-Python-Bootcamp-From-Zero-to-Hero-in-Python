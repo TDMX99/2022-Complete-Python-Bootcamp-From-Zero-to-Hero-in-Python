{
 "cells": [
  {
   "cell_type": "code",
   "execution_count": null,
   "id": "ae6acacf",
   "metadata": {},
   "outputs": [],
   "source": [
    "#if else and elif \n",
    "hungry=True\n",
    "\n",
    "if hungry:\n",
    "    print('feed me')\n",
    "else:\n",
    "    print('GTf out of my face')"
   ]
  },
  {
   "cell_type": "code",
   "execution_count": null,
   "id": "5dc1e2a9",
   "metadata": {},
   "outputs": [],
   "source": [
    "game ='uncharted'\n",
    "\n",
    "if game =='god of war':\n",
    "    print('best game')\n",
    "else:\n",
    "    print('i wont play this piece of garbage')"
   ]
  },
  {
   "cell_type": "code",
   "execution_count": null,
   "id": "cda3c9e8",
   "metadata": {},
   "outputs": [],
   "source": [
    "name='bitoo'\n",
    "if name=='tushar':\n",
    "    print('this guy is the best and is the youngest son of SanjayKMisra and Shrada Misra')\n",
    "elif name == 'bitoo'or name=='dhananjaya':\n",
    "    print('he is the second son')\n",
    "elif name== 'gaurav'or name=='gondu gatta':\n",
    "    print('he is the firstborn')\n",
    "elif name== 'tanu'or name=='tanusha'or name=='Tanusha':\n",
    "     print('chachi ki chori')\n",
    "else:\n",
    "    print('not an ofspring of Sanjay and Sharda')"
   ]
  },
  {
   "cell_type": "code",
   "execution_count": 1,
   "id": "1f2102c4",
   "metadata": {},
   "outputs": [
    {
     "name": "stdout",
     "output_type": "stream",
     "text": [
      "items\n",
      "items\n",
      "items\n",
      "items\n",
      "items\n",
      "items\n",
      "items\n",
      "items\n",
      "items\n",
      "items\n"
     ]
    }
   ],
   "source": [
    "# for loop \n",
    "numbers=[1,2,3,4,5,6,7,8,9,10]\n",
    "for items in numbers:\n",
    "    print('items')"
   ]
  },
  {
   "cell_type": "code",
   "execution_count": 2,
   "id": "cf910b7f",
   "metadata": {},
   "outputs": [
    {
     "name": "stdout",
     "output_type": "stream",
     "text": [
      "odd number: 1\n",
      "2\n",
      "odd number: 3\n",
      "4\n",
      "odd number: 5\n",
      "6\n",
      "odd number: 7\n",
      "8\n",
      "odd number: 9\n",
      "10\n"
     ]
    }
   ],
   "source": [
    "myList=[1,2,3,4,5,6,7,8,9,10]\n",
    "#check for even numbers in a list\n",
    "for num in myList:\n",
    "    if num % 2==0:\n",
    "        print(num)\n",
    "    else:\n",
    "        print(f'odd number: {num}')\n",
    "        "
   ]
  },
  {
   "cell_type": "code",
   "execution_count": null,
   "id": "55a7dddf",
   "metadata": {},
   "outputs": [],
   "source": [
    "list_sum=0\n",
    "for num  in myList:\n",
    "    list_sum= list_sum + num**2\n",
    "    print(list_sum)    "
   ]
  },
  {
   "cell_type": "code",
   "execution_count": null,
   "id": "ea72d2ca",
   "metadata": {},
   "outputs": [],
   "source": [
    "for _ in 'ter ma ki jay':\n",
    "    print(_)"
   ]
  },
  {
   "cell_type": "code",
   "execution_count": null,
   "id": "3adbc906",
   "metadata": {},
   "outputs": [],
   "source": [
    "tup=(1,2,3,4,5)\n",
    "for item in tup:\n",
    "    print(item)"
   ]
  },
  {
   "cell_type": "code",
   "execution_count": null,
   "id": "f20cfc1f",
   "metadata": {},
   "outputs": [],
   "source": [
    "tuplist=[(1,2),(3,4),(5,6),(7,8)]\n",
    "for a,b in tuplist:\n",
    "    print(a) or print(b)"
   ]
  },
  {
   "cell_type": "code",
   "execution_count": null,
   "id": "bc9a2c8b",
   "metadata": {},
   "outputs": [],
   "source": [
    "d={'a':1,'b':2,'c':3,'d':4}\n",
    "for a,b in d.items():\n",
    "    print(a) and print(b)"
   ]
  },
  {
   "cell_type": "code",
   "execution_count": 12,
   "id": "4770839c",
   "metadata": {},
   "outputs": [
    {
     "name": "stdout",
     "output_type": "stream",
     "text": [
      "the current value of x is 1\n",
      "the current value of x is 2\n",
      "the current value of x is 4\n",
      "the current value of x is 8\n",
      "x is not lesser than 10\n"
     ]
    }
   ],
   "source": [
    "x=1\n",
    "while x<10:\n",
    "    print(f\"the current value of x is {x}\")\n",
    "    x=x+x\n",
    "else:\n",
    "    print('x is not lesser than 10')\n",
    "    "
   ]
  },
  {
   "cell_type": "code",
   "execution_count": 14,
   "id": "2933a037",
   "metadata": {},
   "outputs": [
    {
     "name": "stdout",
     "output_type": "stream",
     "text": [
      "end of my script\n"
     ]
    }
   ],
   "source": [
    "#pass, break and continue \n",
    "ab=[1,2,3]\n",
    "for item in ab:\n",
    "    pass\n",
    "print('end of my script')"
   ]
  },
  {
   "cell_type": "code",
   "execution_count": 31,
   "id": "64bae8de",
   "metadata": {},
   "outputs": [
    {
     "name": "stdout",
     "output_type": "stream",
     "text": [
      "h\n",
      "e\n",
      "l\n",
      "l\n"
     ]
    }
   ],
   "source": [
    "abc='hello world'\n",
    "for item in abc:\n",
    "    if item =='o'or item=='w':\n",
    "        break\n",
    "    print(item)"
   ]
  },
  {
   "cell_type": "code",
   "execution_count": 38,
   "id": "eee0c531",
   "metadata": {},
   "outputs": [],
   "source": [
    "# range generator\n",
    "num=[]\n",
    "for itme in range(10):\n",
    "    num.append(itme)"
   ]
  },
  {
   "cell_type": "code",
   "execution_count": 39,
   "id": "c82647c2",
   "metadata": {},
   "outputs": [
    {
     "data": {
      "text/plain": [
       "[0, 1, 2, 3, 4, 5, 6, 7, 8, 9]"
      ]
     },
     "execution_count": 39,
     "metadata": {},
     "output_type": "execute_result"
    }
   ],
   "source": [
    "num"
   ]
  },
  {
   "cell_type": "code",
   "execution_count": 45,
   "id": "c9511615",
   "metadata": {},
   "outputs": [
    {
     "name": "stdout",
     "output_type": "stream",
     "text": [
      "1\n",
      "4\n",
      "7\n",
      "10\n",
      "13\n",
      "16\n",
      "19\n"
     ]
    }
   ],
   "source": [
    "for item in range(1,20,3):\n",
    "    print(item)"
   ]
  },
  {
   "cell_type": "code",
   "execution_count": 48,
   "id": "67d05448",
   "metadata": {},
   "outputs": [],
   "source": [
    "abc=list(range(1,20,3))"
   ]
  },
  {
   "cell_type": "code",
   "execution_count": 49,
   "id": "d566a6ae",
   "metadata": {},
   "outputs": [
    {
     "data": {
      "text/plain": [
       "[1, 4, 7, 10, 13, 16, 19]"
      ]
     },
     "execution_count": 49,
     "metadata": {},
     "output_type": "execute_result"
    }
   ],
   "source": [
    "abc"
   ]
  },
  {
   "cell_type": "code",
   "execution_count": 50,
   "id": "d1d508ae",
   "metadata": {},
   "outputs": [
    {
     "name": "stdout",
     "output_type": "stream",
     "text": [
      "at index 0 the letter is a\n",
      "at index 1 the letter is b\n",
      "at index 2 the letter is c\n",
      "at index 3 the letter is d\n",
      "at index 4 the letter is e\n"
     ]
    }
   ],
   "source": [
    "index_count=0\n",
    "\n",
    "for letter in 'abcde':\n",
    "    print('at index {} the letter is {}'.format(index_count,letter))\n",
    "    index_count= index_count+1"
   ]
  },
  {
   "cell_type": "code",
   "execution_count": 61,
   "id": "88fb2067",
   "metadata": {},
   "outputs": [
    {
     "name": "stdout",
     "output_type": "stream",
     "text": [
      "0\n",
      "a\n",
      "\n",
      "\n",
      "1\n",
      "b\n",
      "\n",
      "\n",
      "2\n",
      "c\n",
      "\n",
      "\n",
      "3\n",
      "d\n",
      "\n",
      "\n",
      "4\n",
      "e\n",
      "\n",
      "\n"
     ]
    }
   ],
   "source": [
    "#enumerate function\n",
    "word='abcde'\n",
    "\n",
    "for a,b in enumerate(word):\n",
    "    print(a)\n",
    "    print(b)\n",
    "    print('\\n')"
   ]
  },
  {
   "cell_type": "code",
   "execution_count": 62,
   "id": "87b98685",
   "metadata": {},
   "outputs": [
    {
     "name": "stdout",
     "output_type": "stream",
     "text": [
      "(1, 'a')\n",
      "(2, 'b')\n",
      "(3, 'c')\n"
     ]
    }
   ],
   "source": [
    "#zip\n",
    "m=[1,2,3]\n",
    "n=['a','b','c']\n",
    "\n",
    "for item in zip(m,n):\n",
    "    print(item)"
   ]
  },
  {
   "cell_type": "code",
   "execution_count": 63,
   "id": "d170963b",
   "metadata": {},
   "outputs": [
    {
     "data": {
      "text/plain": [
       "[(1, 'a'), (2, 'b'), (3, 'c')]"
      ]
     },
     "execution_count": 63,
     "metadata": {},
     "output_type": "execute_result"
    }
   ],
   "source": [
    "list(zip(m,n))"
   ]
  },
  {
   "cell_type": "code",
   "execution_count": 66,
   "id": "cba472ba",
   "metadata": {},
   "outputs": [
    {
     "data": {
      "text/plain": [
       "False"
      ]
     },
     "execution_count": 66,
     "metadata": {},
     "output_type": "execute_result"
    }
   ],
   "source": [
    "# in,min, max\n",
    "'x' in [1,2,3]"
   ]
  },
  {
   "cell_type": "code",
   "execution_count": 67,
   "id": "11555f4c",
   "metadata": {},
   "outputs": [
    {
     "data": {
      "text/plain": [
       "10"
      ]
     },
     "execution_count": 67,
     "metadata": {},
     "output_type": "execute_result"
    }
   ],
   "source": [
    "abc=[10,20,30,40,50,60]\n",
    "min(abc)"
   ]
  },
  {
   "cell_type": "code",
   "execution_count": 68,
   "id": "5e990c95",
   "metadata": {},
   "outputs": [
    {
     "data": {
      "text/plain": [
       "60"
      ]
     },
     "execution_count": 68,
     "metadata": {},
     "output_type": "execute_result"
    }
   ],
   "source": [
    "abc=[10,20,30,40,50,60]\n",
    "max(abc)"
   ]
  },
  {
   "cell_type": "code",
   "execution_count": 72,
   "id": "784bcbfe",
   "metadata": {},
   "outputs": [],
   "source": [
    "# random is the inbuilt library in python, shuffle, randint, input\n",
    "from random import shuffle"
   ]
  },
  {
   "cell_type": "code",
   "execution_count": 82,
   "id": "59455cd4",
   "metadata": {},
   "outputs": [],
   "source": [
    "abc=[1,3,2,4,255,3,35,3,53,5]"
   ]
  },
  {
   "cell_type": "code",
   "execution_count": 83,
   "id": "a942c1ff",
   "metadata": {},
   "outputs": [],
   "source": [
    "shuffle(abc)"
   ]
  },
  {
   "cell_type": "code",
   "execution_count": 84,
   "id": "4af804a5",
   "metadata": {},
   "outputs": [
    {
     "data": {
      "text/plain": [
       "[1, 2, 5, 4, 35, 3, 3, 3, 255, 53]"
      ]
     },
     "execution_count": 84,
     "metadata": {},
     "output_type": "execute_result"
    }
   ],
   "source": [
    "abc"
   ]
  },
  {
   "cell_type": "code",
   "execution_count": 85,
   "id": "4f53fd00",
   "metadata": {},
   "outputs": [],
   "source": [
    "from random import randint"
   ]
  },
  {
   "cell_type": "code",
   "execution_count": 86,
   "id": "8be14cdd",
   "metadata": {},
   "outputs": [
    {
     "data": {
      "text/plain": [
       "116"
      ]
     },
     "execution_count": 86,
     "metadata": {},
     "output_type": "execute_result"
    }
   ],
   "source": [
    "randint(0,188)"
   ]
  },
  {
   "cell_type": "code",
   "execution_count": 88,
   "id": "0f3de409",
   "metadata": {},
   "outputs": [
    {
     "data": {
      "text/plain": [
       "65"
      ]
     },
     "execution_count": 88,
     "metadata": {},
     "output_type": "execute_result"
    }
   ],
   "source": [
    "randint(0,188)"
   ]
  },
  {
   "cell_type": "code",
   "execution_count": 89,
   "id": "cc944b38",
   "metadata": {},
   "outputs": [
    {
     "data": {
      "text/plain": [
       "129"
      ]
     },
     "execution_count": 89,
     "metadata": {},
     "output_type": "execute_result"
    }
   ],
   "source": [
    "randint(0,188)"
   ]
  },
  {
   "cell_type": "code",
   "execution_count": 90,
   "id": "cf87ac00",
   "metadata": {},
   "outputs": [
    {
     "name": "stdout",
     "output_type": "stream",
     "text": [
      "enter a number here:50\n"
     ]
    },
    {
     "data": {
      "text/plain": [
       "'50'"
      ]
     },
     "execution_count": 90,
     "metadata": {},
     "output_type": "execute_result"
    }
   ],
   "source": [
    "input('enter a number here:')"
   ]
  },
  {
   "cell_type": "code",
   "execution_count": 94,
   "id": "8fb042c7",
   "metadata": {},
   "outputs": [
    {
     "name": "stdout",
     "output_type": "stream",
     "text": [
      "what is your name?:Tshar\n"
     ]
    }
   ],
   "source": [
    "# input only accepts strings\n",
    "result= input('what is your name?:')"
   ]
  },
  {
   "cell_type": "code",
   "execution_count": 95,
   "id": "76bb4337",
   "metadata": {},
   "outputs": [
    {
     "data": {
      "text/plain": [
       "'Tshar'"
      ]
     },
     "execution_count": 95,
     "metadata": {},
     "output_type": "execute_result"
    }
   ],
   "source": [
    "result"
   ]
  },
  {
   "cell_type": "code",
   "execution_count": 96,
   "id": "5fb78ff1",
   "metadata": {},
   "outputs": [
    {
     "name": "stdout",
     "output_type": "stream",
     "text": [
      "what is your age:30\n"
     ]
    }
   ],
   "source": [
    "age= input('what is your age:')"
   ]
  },
  {
   "cell_type": "code",
   "execution_count": 98,
   "id": "bebcc91f",
   "metadata": {},
   "outputs": [
    {
     "data": {
      "text/plain": [
       "str"
      ]
     },
     "execution_count": 98,
     "metadata": {},
     "output_type": "execute_result"
    }
   ],
   "source": [
    "type(age)"
   ]
  },
  {
   "cell_type": "code",
   "execution_count": 99,
   "id": "dde1a1fc",
   "metadata": {},
   "outputs": [
    {
     "name": "stdout",
     "output_type": "stream",
     "text": [
      "what is your age:30\n"
     ]
    }
   ],
   "source": [
    "age= int(input('what is your age:'))"
   ]
  },
  {
   "cell_type": "code",
   "execution_count": 100,
   "id": "cc5fc1fe",
   "metadata": {},
   "outputs": [
    {
     "data": {
      "text/plain": [
       "int"
      ]
     },
     "execution_count": 100,
     "metadata": {},
     "output_type": "execute_result"
    }
   ],
   "source": [
    "type(age)"
   ]
  },
  {
   "cell_type": "code",
   "execution_count": 101,
   "id": "21da3140",
   "metadata": {},
   "outputs": [
    {
     "name": "stdout",
     "output_type": "stream",
     "text": [
      "what is your age:35\n"
     ]
    }
   ],
   "source": [
    "age= float(input('what is your age:'))"
   ]
  },
  {
   "cell_type": "code",
   "execution_count": 103,
   "id": "538c4385",
   "metadata": {},
   "outputs": [
    {
     "data": {
      "text/plain": [
       "float"
      ]
     },
     "execution_count": 103,
     "metadata": {},
     "output_type": "execute_result"
    }
   ],
   "source": [
    "type(age)"
   ]
  },
  {
   "cell_type": "code",
   "execution_count": 3,
   "id": "ea52cf9e",
   "metadata": {},
   "outputs": [],
   "source": [
    "# list comprehensions\n",
    "string='Tushar'\n",
    "mylist=[]\n",
    "for item in string:\n",
    "    mylist.append(item)"
   ]
  },
  {
   "cell_type": "code",
   "execution_count": 4,
   "id": "00e25e4d",
   "metadata": {},
   "outputs": [
    {
     "data": {
      "text/plain": [
       "['T', 'u', 's', 'h', 'a', 'r']"
      ]
     },
     "execution_count": 4,
     "metadata": {},
     "output_type": "execute_result"
    }
   ],
   "source": [
    "mylist"
   ]
  },
  {
   "cell_type": "code",
   "execution_count": 5,
   "id": "797b4af6",
   "metadata": {},
   "outputs": [],
   "source": [
    "# easier way if doing the above\n",
    "mylist=[item for item in string]"
   ]
  },
  {
   "cell_type": "code",
   "execution_count": 6,
   "id": "974d366c",
   "metadata": {},
   "outputs": [
    {
     "data": {
      "text/plain": [
       "['T', 'u', 's', 'h', 'a', 'r']"
      ]
     },
     "execution_count": 6,
     "metadata": {},
     "output_type": "execute_result"
    }
   ],
   "source": [
    "mylist"
   ]
  },
  {
   "cell_type": "code",
   "execution_count": 9,
   "id": "ad686221",
   "metadata": {},
   "outputs": [],
   "source": [
    "ddmx=[x for x in 'dhananjaya']"
   ]
  },
  {
   "cell_type": "code",
   "execution_count": 10,
   "id": "cc908e27",
   "metadata": {},
   "outputs": [
    {
     "data": {
      "text/plain": [
       "['d', 'h', 'a', 'n', 'a', 'n', 'j', 'a', 'y', 'a']"
      ]
     },
     "execution_count": 10,
     "metadata": {},
     "output_type": "execute_result"
    }
   ],
   "source": [
    "ddmx"
   ]
  },
  {
   "cell_type": "code",
   "execution_count": 17,
   "id": "f4cb8d8c",
   "metadata": {},
   "outputs": [],
   "source": [
    "number= [num**2 for num in range(0,11)]"
   ]
  },
  {
   "cell_type": "code",
   "execution_count": 18,
   "id": "d7ef1261",
   "metadata": {},
   "outputs": [
    {
     "data": {
      "text/plain": [
       "[0, 1, 4, 9, 16, 25, 36, 49, 64, 81, 100]"
      ]
     },
     "execution_count": 18,
     "metadata": {},
     "output_type": "execute_result"
    }
   ],
   "source": [
    "number"
   ]
  },
  {
   "cell_type": "code",
   "execution_count": 22,
   "id": "611f6898",
   "metadata": {},
   "outputs": [],
   "source": [
    "x= [num for num in range(0,11) if num%2== 0]"
   ]
  },
  {
   "cell_type": "code",
   "execution_count": 23,
   "id": "02549c1b",
   "metadata": {},
   "outputs": [
    {
     "data": {
      "text/plain": [
       "[0, 2, 4, 6, 8, 10]"
      ]
     },
     "execution_count": 23,
     "metadata": {},
     "output_type": "execute_result"
    }
   ],
   "source": [
    "x"
   ]
  },
  {
   "cell_type": "code",
   "execution_count": 24,
   "id": "632c4075",
   "metadata": {},
   "outputs": [],
   "source": [
    "number= [2,3,4,5]\n",
    "square=[(x**2)for x in number]\n"
   ]
  },
  {
   "cell_type": "code",
   "execution_count": 25,
   "id": "44103e07",
   "metadata": {},
   "outputs": [
    {
     "data": {
      "text/plain": [
       "[4, 9, 16, 25]"
      ]
     },
     "execution_count": 25,
     "metadata": {},
     "output_type": "execute_result"
    }
   ],
   "source": [
    "square"
   ]
  },
  {
   "cell_type": "code",
   "execution_count": null,
   "id": "57ed555e",
   "metadata": {},
   "outputs": [],
   "source": []
  }
 ],
 "metadata": {
  "kernelspec": {
   "display_name": "Python 3 (ipykernel)",
   "language": "python",
   "name": "python3"
  },
  "language_info": {
   "codemirror_mode": {
    "name": "ipython",
    "version": 3
   },
   "file_extension": ".py",
   "mimetype": "text/x-python",
   "name": "python",
   "nbconvert_exporter": "python",
   "pygments_lexer": "ipython3",
   "version": "3.9.7"
  }
 },
 "nbformat": 4,
 "nbformat_minor": 5
}

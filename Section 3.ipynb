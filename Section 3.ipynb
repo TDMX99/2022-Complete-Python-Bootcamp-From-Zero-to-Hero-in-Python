{
 "cells": [
  {
   "cell_type": "code",
   "execution_count": 3,
   "id": "01ae33ab",
   "metadata": {},
   "outputs": [
    {
     "data": {
      "text/plain": [
       "1990.0"
      ]
     },
     "execution_count": 3,
     "metadata": {},
     "output_type": "execute_result"
    }
   ],
   "source": [
    "my_income = 10000\n",
    "my_expenses = 50\n",
    "tax_rate = 0.2\n",
    "net_income = (my_income - my_expenses)*tax_rate\n",
    "net_income"
   ]
  },
  {
   "cell_type": "code",
   "execution_count": 4,
   "id": "323064a0",
   "metadata": {},
   "outputs": [
    {
     "name": "stdout",
     "output_type": "stream",
     "text": [
      "hello \n",
      "world\n",
      "hello \tworld\n"
     ]
    },
    {
     "data": {
      "text/plain": [
       "11"
      ]
     },
     "execution_count": 4,
     "metadata": {},
     "output_type": "execute_result"
    }
   ],
   "source": [
    "print('hello \\nworld')\n",
    "print('hello \\tworld')\n",
    "len('hello world')"
   ]
  },
  {
   "cell_type": "code",
   "execution_count": 5,
   "id": "8e548dd2",
   "metadata": {},
   "outputs": [
    {
     "data": {
      "text/plain": [
       "'l'"
      ]
     },
     "execution_count": 5,
     "metadata": {},
     "output_type": "execute_result"
    }
   ],
   "source": [
    "mystring=('Hello World')\n",
    "mystring[2]"
   ]
  },
  {
   "cell_type": "code",
   "execution_count": 8,
   "id": "666d7906",
   "metadata": {},
   "outputs": [
    {
     "data": {
      "text/plain": [
       "'bdfh'"
      ]
     },
     "execution_count": 8,
     "metadata": {},
     "output_type": "execute_result"
    }
   ],
   "source": [
    "mystring='abcdefghijkl'\n",
    "mystring[1:8:2]\n"
   ]
  },
  {
   "cell_type": "code",
   "execution_count": 7,
   "id": "25943fbf",
   "metadata": {},
   "outputs": [
    {
     "data": {
      "text/plain": [
       "'H'"
      ]
     },
     "execution_count": 7,
     "metadata": {},
     "output_type": "execute_result"
    }
   ],
   "source": [
    "'Hello World'[0]"
   ]
  },
  {
   "cell_type": "code",
   "execution_count": 9,
   "id": "a8f24eca",
   "metadata": {},
   "outputs": [
    {
     "data": {
      "text/plain": [
       "'Pam'"
      ]
     },
     "execution_count": 9,
     "metadata": {},
     "output_type": "execute_result"
    }
   ],
   "source": [
    "name = 'Sam'\n",
    "last_letters=name[1:]\n",
    "'P'+last_letters"
   ]
  },
  {
   "cell_type": "code",
   "execution_count": 10,
   "id": "3eed02ec",
   "metadata": {},
   "outputs": [
    {
     "data": {
      "text/plain": [
       "'jatin is a good man but he is also a phugga'"
      ]
     },
     "execution_count": 10,
     "metadata": {},
     "output_type": "execute_result"
    }
   ],
   "source": [
    "x = 'jatin is a good man'\n",
    "y = ' but he is also a phugga'\n",
    "x+y"
   ]
  },
  {
   "cell_type": "code",
   "execution_count": 11,
   "id": "e84e86b0",
   "metadata": {},
   "outputs": [
    {
     "data": {
      "text/plain": [
       "'jatin is a good manjatin is a good manjatin is a good manjatin is a good manjatin is a good manjatin is a good manjatin is a good manjatin is a good manjatin is a good manjatin is a good man'"
      ]
     },
     "execution_count": 11,
     "metadata": {},
     "output_type": "execute_result"
    }
   ],
   "source": [
    "x*10"
   ]
  },
  {
   "cell_type": "code",
   "execution_count": 12,
   "id": "a3355915",
   "metadata": {},
   "outputs": [
    {
     "data": {
      "text/plain": [
       "'Jatin is a buhha'"
      ]
     },
     "execution_count": 12,
     "metadata": {},
     "output_type": "execute_result"
    }
   ],
   "source": [
    "today_quote= 'Jatin is a buhha'\n",
    "x=today_quote\n",
    "x"
   ]
  },
  {
   "cell_type": "code",
   "execution_count": 14,
   "id": "746125f7",
   "metadata": {},
   "outputs": [
    {
     "data": {
      "text/plain": [
       "'12'"
      ]
     },
     "execution_count": 14,
     "metadata": {},
     "output_type": "execute_result"
    }
   ],
   "source": [
    "1+2\n",
    "'1'+'2'"
   ]
  },
  {
   "cell_type": "code",
   "execution_count": 15,
   "id": "815ab04f",
   "metadata": {},
   "outputs": [
    {
     "data": {
      "text/plain": [
       "['tushar is a gr', 'at man and h', ' is also invincibl', '']"
      ]
     },
     "execution_count": 15,
     "metadata": {},
     "output_type": "execute_result"
    }
   ],
   "source": [
    "name=('tushar is a great man and he is also invincible')\n",
    "name.split('e')"
   ]
  },
  {
   "cell_type": "code",
   "execution_count": 16,
   "id": "d2596bfe",
   "metadata": {},
   "outputs": [
    {
     "name": "stdout",
     "output_type": "stream",
     "text": [
      "Capatelise method test\n"
     ]
    }
   ],
   "source": [
    "abc= 'CapAtelise metHod TeSt'\n",
    "Capitalize_method= abc.capitalize()\n",
    "print(Capitalize_method)"
   ]
  },
  {
   "cell_type": "code",
   "execution_count": 18,
   "id": "0b202d1c",
   "metadata": {},
   "outputs": [
    {
     "data": {
      "text/plain": [
       "'@@@.Python is awesome.@@@'"
      ]
     },
     "execution_count": 18,
     "metadata": {},
     "output_type": "execute_result"
    }
   ],
   "source": [
    "abcd = \".Python is awesome.\"\n",
    "len(abcd)\n",
    "abcd.center(25,'@')"
   ]
  },
  {
   "cell_type": "code",
   "execution_count": 19,
   "id": "3779917f",
   "metadata": {},
   "outputs": [
    {
     "name": "stdout",
     "output_type": "stream",
     "text": [
      "The string is: pythön!\n"
     ]
    }
   ],
   "source": [
    "string = 'pythön!'\n",
    "print('The string is:', string)"
   ]
  },
  {
   "cell_type": "code",
   "execution_count": 20,
   "id": "21f1e1c4",
   "metadata": {},
   "outputs": [
    {
     "name": "stdout",
     "output_type": "stream",
     "text": [
      "The encoded version is: b'pyth\\xc3\\xb6n!'\n"
     ]
    }
   ],
   "source": [
    "string_utf = string.encode()\n",
    "print('The encoded version is:', string_utf)"
   ]
  },
  {
   "cell_type": "code",
   "execution_count": 22,
   "id": "3139b148",
   "metadata": {},
   "outputs": [
    {
     "data": {
      "text/plain": [
       "b'pyth\\xc3\\xb6n!'"
      ]
     },
     "execution_count": 22,
     "metadata": {},
     "output_type": "execute_result"
    }
   ],
   "source": [
    "string.encode()"
   ]
  },
  {
   "cell_type": "code",
   "execution_count": 23,
   "id": "bfc07e44",
   "metadata": {},
   "outputs": [],
   "source": [
    "# dictionaries\n",
    "d={'1':'apple','2':'mango'}\n",
    "h={'100':'goo','200':'poo'}\n",
    "c={'mango':'₹50','apple':'₹60','banana':'₹40','melon':'₹80','123':{'1':'apple','2':'mango','poop':{'100':'goo','200':'poo'}}}"
   ]
  },
  {
   "cell_type": "code",
   "execution_count": 24,
   "id": "48498e28",
   "metadata": {},
   "outputs": [
    {
     "data": {
      "text/plain": [
       "'goo'"
      ]
     },
     "execution_count": 24,
     "metadata": {},
     "output_type": "execute_result"
    }
   ],
   "source": [
    "c['123']['poop']['100']"
   ]
  },
  {
   "cell_type": "code",
   "execution_count": 27,
   "id": "f2c0cacc",
   "metadata": {},
   "outputs": [
    {
     "name": "stdout",
     "output_type": "stream",
     "text": [
      "C\n",
      "C\n"
     ]
    }
   ],
   "source": [
    "f={'key1':['a','b','c']}\n",
    "mylist= f['key1']\n",
    "print(mylist[2].upper())\n",
    "print(f['key1'][2].upper())"
   ]
  },
  {
   "cell_type": "code",
   "execution_count": 30,
   "id": "4828fbdd",
   "metadata": {},
   "outputs": [
    {
     "data": {
      "text/plain": [
       "{'key1': 'Tatti'}"
      ]
     },
     "execution_count": 30,
     "metadata": {},
     "output_type": "execute_result"
    }
   ],
   "source": [
    "f['key1']= 'Tatti'\n",
    "f"
   ]
  },
  {
   "cell_type": "code",
   "execution_count": 32,
   "id": "aa865714",
   "metadata": {},
   "outputs": [
    {
     "name": "stdout",
     "output_type": "stream",
     "text": [
      "my name is Tushar\n",
      "My name is Tushar\n",
      "My name is Tushar\n",
      "14.285714285714286\n",
      "The result was 14.29\n"
     ]
    }
   ],
   "source": [
    "# formating \n",
    "print('my name is {}'.format('Tushar'))\n",
    "print('My {1} {0} {2}'.format('is','name','Tushar'))\n",
    "print('My {n} {i} {t}'.format(i='is',n='name',t='Tushar'))\n",
    "result=100/7\n",
    "print(result)\n",
    "# float formatting follows\"value:width.percision f\"\n",
    "print('The result was {r:2.2f}'.format(r=result))\n"
   ]
  },
  {
   "cell_type": "code",
   "execution_count": 34,
   "id": "d390d75f",
   "metadata": {},
   "outputs": [
    {
     "name": "stdout",
     "output_type": "stream",
     "text": [
      "My friends names are Harhsit, Sameer, Jatin.\n",
      "My name is Tushar\n"
     ]
    }
   ],
   "source": [
    "s1='My friends names are'\n",
    "s2='Tushar'\n",
    "s3='Harhsit'\n",
    "s4='Sameer'\n",
    "s5='Jatin'\n",
    "print(s1 + ' {h}, {s}, {j}.'.format(h=s3,s=s4,j=s5))\n",
    "name = 'Tushar'\n",
    "print('My name is {}'.format(name))"
   ]
  },
  {
   "cell_type": "code",
   "execution_count": 35,
   "id": "cd26e361",
   "metadata": {},
   "outputs": [
    {
     "name": "stdout",
     "output_type": "stream",
     "text": [
      "Tushar is 22 years old\n"
     ]
    }
   ],
   "source": [
    "name = 'Tushar'\n",
    "age = '22'\n",
    "print(f'{name} is {age} years old')"
   ]
  },
  {
   "cell_type": "code",
   "execution_count": 39,
   "id": "6d7c1897",
   "metadata": {},
   "outputs": [
    {
     "name": "stdout",
     "output_type": "stream",
     "text": [
      "6\n",
      "2\n",
      "Python rules\n"
     ]
    }
   ],
   "source": [
    "print(14%8)\n",
    "print(5//2)\n",
    "print('Python {}'.format('rules'))"
   ]
  },
  {
   "cell_type": "code",
   "execution_count": 40,
   "id": "28706ffd",
   "metadata": {},
   "outputs": [],
   "source": [
    "#lists "
   ]
  },
  {
   "cell_type": "code",
   "execution_count": 41,
   "id": "0911b970",
   "metadata": {},
   "outputs": [
    {
     "name": "stdout",
     "output_type": "stream",
     "text": [
      "5\n",
      "3\n"
     ]
    }
   ],
   "source": [
    "my_list=[1,2,3,4,5]\n",
    "my_list1=['string',101,40.2]\n",
    "print(len(my_list))\n",
    "print(len(my_list1))"
   ]
  },
  {
   "cell_type": "code",
   "execution_count": 42,
   "id": "d50382aa",
   "metadata": {},
   "outputs": [
    {
     "data": {
      "text/plain": [
       "['one', 'two', 'three', 'four', 'five', 'six']"
      ]
     },
     "execution_count": 42,
     "metadata": {},
     "output_type": "execute_result"
    }
   ],
   "source": [
    "list1=['one','two','three']\n",
    "list2=['four','five','six']\n",
    "list1+list2"
   ]
  },
  {
   "cell_type": "code",
   "execution_count": 46,
   "id": "897f242a",
   "metadata": {},
   "outputs": [
    {
     "data": {
      "text/plain": [
       "'six'"
      ]
     },
     "execution_count": 46,
     "metadata": {},
     "output_type": "execute_result"
    }
   ],
   "source": [
    "new=list1+list2\n",
    "new_list= []\n",
    "new.pop()"
   ]
  },
  {
   "cell_type": "code",
   "execution_count": 47,
   "id": "e5476591",
   "metadata": {},
   "outputs": [
    {
     "data": {
      "text/plain": [
       "['one', 'two', 'three', 'four', 'five']"
      ]
     },
     "execution_count": 47,
     "metadata": {},
     "output_type": "execute_result"
    }
   ],
   "source": [
    "new"
   ]
  },
  {
   "cell_type": "code",
   "execution_count": 52,
   "id": "0e1722ce",
   "metadata": {},
   "outputs": [
    {
     "ename": "IndexError",
     "evalue": "pop index out of range",
     "output_type": "error",
     "traceback": [
      "\u001b[1;31m---------------------------------------------------------------------------\u001b[0m",
      "\u001b[1;31mIndexError\u001b[0m                                Traceback (most recent call last)",
      "\u001b[1;32m~\\AppData\\Local\\Temp/ipykernel_17404/1128433949.py\u001b[0m in \u001b[0;36m<module>\u001b[1;34m\u001b[0m\n\u001b[1;32m----> 1\u001b[1;33m \u001b[0mnew\u001b[0m\u001b[1;33m.\u001b[0m\u001b[0mpop\u001b[0m\u001b[1;33m(\u001b[0m\u001b[1;36m2\u001b[0m\u001b[1;33m)\u001b[0m\u001b[1;33m\u001b[0m\u001b[1;33m\u001b[0m\u001b[0m\n\u001b[0m\u001b[0;32m      2\u001b[0m \u001b[0mprint\u001b[0m\u001b[1;33m(\u001b[0m\u001b[0mnew\u001b[0m\u001b[1;33m)\u001b[0m\u001b[1;33m\u001b[0m\u001b[1;33m\u001b[0m\u001b[0m\n\u001b[0;32m      3\u001b[0m \u001b[0mnew\u001b[0m\u001b[1;33m[\u001b[0m\u001b[1;36m0\u001b[0m\u001b[1;33m]\u001b[0m\u001b[1;33m=\u001b[0m\u001b[1;34m'my stinky butt'\u001b[0m\u001b[1;33m\u001b[0m\u001b[1;33m\u001b[0m\u001b[0m\n\u001b[0;32m      4\u001b[0m \u001b[0mprint\u001b[0m\u001b[1;33m(\u001b[0m\u001b[0mnew\u001b[0m\u001b[1;33m)\u001b[0m\u001b[1;33m\u001b[0m\u001b[1;33m\u001b[0m\u001b[0m\n",
      "\u001b[1;31mIndexError\u001b[0m: pop index out of range"
     ]
    }
   ],
   "source": [
    "new.pop(2)\n",
    "print(new)\n",
    "new[0]='my stinky butt'\n",
    "print(new)"
   ]
  },
  {
   "cell_type": "code",
   "execution_count": 53,
   "id": "8ce25e74",
   "metadata": {},
   "outputs": [],
   "source": [
    "new = ['one', 'two', 'five', 'six', 'seven']"
   ]
  },
  {
   "cell_type": "code",
   "execution_count": 54,
   "id": "470d2545",
   "metadata": {},
   "outputs": [],
   "source": [
    "new.insert(2,'three')"
   ]
  },
  {
   "cell_type": "code",
   "execution_count": 55,
   "id": "b9931085",
   "metadata": {},
   "outputs": [
    {
     "data": {
      "text/plain": [
       "['one', 'two', 'three', 'five', 'six', 'seven']"
      ]
     },
     "execution_count": 55,
     "metadata": {},
     "output_type": "execute_result"
    }
   ],
   "source": [
    "new"
   ]
  },
  {
   "cell_type": "code",
   "execution_count": 56,
   "id": "dd00ec39",
   "metadata": {},
   "outputs": [],
   "source": [
    "new.insert(3,'four')"
   ]
  },
  {
   "cell_type": "code",
   "execution_count": 57,
   "id": "d5a84c20",
   "metadata": {},
   "outputs": [
    {
     "data": {
      "text/plain": [
       "['one', 'two', 'three', 'four', 'five', 'six', 'seven']"
      ]
     },
     "execution_count": 57,
     "metadata": {},
     "output_type": "execute_result"
    }
   ],
   "source": [
    "new"
   ]
  },
  {
   "cell_type": "code",
   "execution_count": 58,
   "id": "bf860b45",
   "metadata": {},
   "outputs": [],
   "source": [
    "new.remove('two')"
   ]
  },
  {
   "cell_type": "code",
   "execution_count": 59,
   "id": "3b0c8367",
   "metadata": {},
   "outputs": [
    {
     "data": {
      "text/plain": [
       "['one', 'three', 'four', 'five', 'six', 'seven']"
      ]
     },
     "execution_count": 59,
     "metadata": {},
     "output_type": "execute_result"
    }
   ],
   "source": [
    "new"
   ]
  },
  {
   "cell_type": "code",
   "execution_count": 60,
   "id": "bfb526c5",
   "metadata": {},
   "outputs": [
    {
     "data": {
      "text/plain": [
       "'five'"
      ]
     },
     "execution_count": 60,
     "metadata": {},
     "output_type": "execute_result"
    }
   ],
   "source": [
    "new.pop(3)"
   ]
  },
  {
   "cell_type": "code",
   "execution_count": 61,
   "id": "2358df26",
   "metadata": {},
   "outputs": [
    {
     "data": {
      "text/plain": [
       "['one', 'two', 'three', 'four', 'five', 'six', 'seven']"
      ]
     },
     "execution_count": 61,
     "metadata": {},
     "output_type": "execute_result"
    }
   ],
   "source": [
    "new.insert(1,'two')\n",
    "new.insert(4,'five')\n",
    "new"
   ]
  },
  {
   "cell_type": "code",
   "execution_count": 62,
   "id": "32000945",
   "metadata": {},
   "outputs": [
    {
     "data": {
      "text/plain": [
       "['one', 'two', 'three', 'four', 'five', 'six', 'seven', 'eight', 'nine']"
      ]
     },
     "execution_count": 62,
     "metadata": {},
     "output_type": "execute_result"
    }
   ],
   "source": [
    "new.extend(['eight','nine'])\n",
    "new"
   ]
  },
  {
   "cell_type": "code",
   "execution_count": 63,
   "id": "43f9c6a8",
   "metadata": {},
   "outputs": [
    {
     "data": {
      "text/plain": [
       "['one',\n",
       " 'two',\n",
       " 'three',\n",
       " 'four',\n",
       " 'five',\n",
       " 'six',\n",
       " 'seven',\n",
       " 'eight',\n",
       " 'nine',\n",
       " 'six',\n",
       " 'seven']"
      ]
     },
     "execution_count": 63,
     "metadata": {},
     "output_type": "execute_result"
    }
   ],
   "source": [
    "cool=['six','seven']\n",
    "new.extend(cool)\n",
    "new"
   ]
  },
  {
   "cell_type": "code",
   "execution_count": 64,
   "id": "6f88133a",
   "metadata": {},
   "outputs": [
    {
     "name": "stdout",
     "output_type": "stream",
     "text": [
      "[2, 3, 5, 7]\n",
      "[2, 3, 5, 7]\n"
     ]
    }
   ],
   "source": [
    "prime_numbers=[2,3,5,7]\n",
    "high=prime_numbers.copy()\n",
    "print(high)\n",
    "print(prime_numbers)"
   ]
  },
  {
   "cell_type": "code",
   "execution_count": 65,
   "id": "d116850c",
   "metadata": {},
   "outputs": [
    {
     "name": "stdout",
     "output_type": "stream",
     "text": [
      "['a', 'e', 'g', 'j', 'j', 'p', 'r', 'u', 'v', 'w', 'z']\n",
      "[1, 2, 5, 6, 3, 2, 5, 8, 0, 8, 5]\n"
     ]
    }
   ],
   "source": [
    "new_list=['j','r','u','e','v','j','w','p','z','a','g']\n",
    "num_list=[1,2,5,6,3,2,5,8,0,8,5]\n",
    "new_list.sort()\n",
    "print(new_list)\n",
    "print(num_list)"
   ]
  },
  {
   "cell_type": "code",
   "execution_count": null,
   "id": "908e6bba",
   "metadata": {},
   "outputs": [],
   "source": []
  }
 ],
 "metadata": {
  "kernelspec": {
   "display_name": "Python 3 (ipykernel)",
   "language": "python",
   "name": "python3"
  },
  "language_info": {
   "codemirror_mode": {
    "name": "ipython",
    "version": 3
   },
   "file_extension": ".py",
   "mimetype": "text/x-python",
   "name": "python",
   "nbconvert_exporter": "python",
   "pygments_lexer": "ipython3",
   "version": "3.9.7"
  }
 },
 "nbformat": 4,
 "nbformat_minor": 5
}

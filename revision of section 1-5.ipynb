{
 "cells": [
  {
   "cell_type": "code",
   "execution_count": null,
   "id": "1d491d02",
   "metadata": {},
   "outputs": [],
   "source": [
    "#if, elif, else\n",
    "if True:\n",
    "    print(\"it's true\")"
   ]
  },
  {
   "cell_type": "code",
   "execution_count": null,
   "id": "36a327fa",
   "metadata": {},
   "outputs": [],
   "source": [
    "x=True\n",
    "if x:\n",
    "    print('x is true')\n",
    "else:\n",
    "    print('x is flase')"
   ]
  },
  {
   "cell_type": "code",
   "execution_count": null,
   "id": "5510c924",
   "metadata": {},
   "outputs": [],
   "source": [
    "name= 'tushar'\n",
    "\n",
    "if name =='tanusha':\n",
    "    print('my name is tanusha')\n",
    "elif name=='tushar':\n",
    "    print('my name is tushar')\n",
    "else:\n",
    "    print('what is your name')   "
   ]
  },
  {
   "cell_type": "code",
   "execution_count": null,
   "id": "2ea1f62c",
   "metadata": {},
   "outputs": [],
   "source": [
    "# for loops,\n",
    "numbers= list(range(0,11))\n",
    "print(numbers)\n"
   ]
  },
  {
   "cell_type": "code",
   "execution_count": null,
   "id": "8ef0fe34",
   "metadata": {},
   "outputs": [],
   "source": [
    "for items in numbers:\n",
    "    print(items)"
   ]
  },
  {
   "cell_type": "code",
   "execution_count": null,
   "id": "0785bfa2",
   "metadata": {},
   "outputs": [],
   "source": [
    "# module % gets the remainder\n",
    "\n",
    "17%2"
   ]
  },
  {
   "cell_type": "code",
   "execution_count": null,
   "id": "38772467",
   "metadata": {},
   "outputs": [],
   "source": [
    "14%2"
   ]
  },
  {
   "cell_type": "code",
   "execution_count": null,
   "id": "2a9a928f",
   "metadata": {},
   "outputs": [],
   "source": [
    "# if and else statements in for loop\n",
    "\n",
    "for num in numbers:\n",
    "    if num%2==0:\n",
    "        print('this',(num),'is an even number')\n",
    "    else:\n",
    "        print('this',(num),'is an odd number')"
   ]
  },
  {
   "cell_type": "code",
   "execution_count": null,
   "id": "49450d2c",
   "metadata": {},
   "outputs": [],
   "source": [
    "list1 = [1,2,3,4,5,6,7,8,9,10]\n",
    "listsum = 0\n",
    "for num in list1:\n",
    "    listsum= listsum + num\n",
    "    print(listsum)"
   ]
  },
  {
   "cell_type": "code",
   "execution_count": null,
   "id": "e1722e1f",
   "metadata": {},
   "outputs": [],
   "source": [
    "list2 = [(2,4),(6,8),(10,12)]\n",
    "for a,b in list2:\n",
    "    print(a)\n",
    "    print(b)"
   ]
  },
  {
   "cell_type": "code",
   "execution_count": null,
   "id": "96ac9fa0",
   "metadata": {},
   "outputs": [],
   "source": [
    "d = {'k1':1,'k2':2,'k3':3}\n",
    "for a in d.keys():\n",
    "    print(a)\n",
    "print(d.items())"
   ]
  },
  {
   "cell_type": "code",
   "execution_count": null,
   "id": "5446ec33",
   "metadata": {},
   "outputs": [],
   "source": [
    "# while loops\n",
    "x = 1\n",
    "\n",
    "while x <= 11:\n",
    "    print('value of x is',x)\n",
    "    x= x+1\n",
    "else:\n",
    "    print('value of x is greater than', x)"
   ]
  },
  {
   "cell_type": "code",
   "execution_count": null,
   "id": "feae49e9",
   "metadata": {},
   "outputs": [],
   "source": [
    "# continue, break, pass\n",
    "\n",
    "x=0\n",
    "\n",
    "while x<4:\n",
    "    print('Now x is: ',x,)\n",
    "    print(' x is still less than 4 adding 1 to x')\n",
    "    x+= 1\n",
    "    \n",
    "    if x==3:\n",
    "        print ('currently x is: ',x)\n",
    "        \n",
    "    else:\n",
    "        print('asdhhbf')\n",
    "        \n",
    "        \n",
    "        \n",
    "        "
   ]
  },
  {
   "cell_type": "code",
   "execution_count": null,
   "id": "397ec6e1",
   "metadata": {},
   "outputs": [],
   "source": [
    "for k in 'tanusha':\n",
    "    print(k)"
   ]
  },
  {
   "cell_type": "code",
   "execution_count": null,
   "id": "959db81d",
   "metadata": {},
   "outputs": [],
   "source": [
    "list1={1:2,3:4,6:5}"
   ]
  },
  {
   "cell_type": "code",
   "execution_count": null,
   "id": "12e49bf5",
   "metadata": {},
   "outputs": [],
   "source": [
    "list(list1.keys())"
   ]
  },
  {
   "cell_type": "code",
   "execution_count": 9,
   "id": "5b1f169b",
   "metadata": {},
   "outputs": [
    {
     "name": "stdout",
     "output_type": "stream",
     "text": [
      "Hi i am  0  and i am less than 10\n",
      "So i'll add one more to me\n",
      "\n",
      "Hi i am  2  and i am less than 10\n",
      "So i'll add one more to me\n",
      "\n",
      "Hi i am  4  and i am less than 10\n",
      "So i'll add one more to me\n",
      "\n",
      "Hi i am  6  and i am less than 10\n",
      "So i'll add one more to me\n",
      "\n",
      "Hi i am  8  and i am less than 10\n",
      "So i'll add one more to me\n",
      "\n",
      "i'll be greater than 10 if i add one more, so iam done\n"
     ]
    }
   ],
   "source": [
    "#while loop\n",
    "\n",
    "x= 0\n",
    "\n",
    "while x<10:\n",
    "    print('Hi i am ',x,' and i am less than 10')\n",
    "    print(\"So i'll add one more to me\\n\")\n",
    "    x+=2\n",
    "else:\n",
    "    print(\"i'll be greater than 10 if i add one more, so iam done\")"
   ]
  },
  {
   "cell_type": "code",
   "execution_count": 12,
   "id": "5045bc34",
   "metadata": {},
   "outputs": [
    {
     "data": {
      "text/plain": [
       "[0, 1, 2, 3, 4, 5, 6, 7, 8, 9, 10]"
      ]
     },
     "execution_count": 12,
     "metadata": {},
     "output_type": "execute_result"
    }
   ],
   "source": [
    "list(range(0,11))"
   ]
  },
  {
   "cell_type": "code",
   "execution_count": 13,
   "id": "ea5e16c6",
   "metadata": {},
   "outputs": [
    {
     "data": {
      "text/plain": [
       "[0, 10, 20, 30, 40, 50, 60, 70, 80, 90, 100]"
      ]
     },
     "execution_count": 13,
     "metadata": {},
     "output_type": "execute_result"
    }
   ],
   "source": [
    "list(range(0,101,10))"
   ]
  },
  {
   "cell_type": "code",
   "execution_count": 19,
   "id": "4773f9dc",
   "metadata": {},
   "outputs": [
    {
     "ename": "IndexError",
     "evalue": "Replacement index 1 out of range for positional args tuple",
     "output_type": "error",
     "traceback": [
      "\u001b[1;31m---------------------------------------------------------------------------\u001b[0m",
      "\u001b[1;31mIndexError\u001b[0m                                Traceback (most recent call last)",
      "\u001b[1;32m~\\AppData\\Local\\Temp/ipykernel_8232/1815910352.py\u001b[0m in \u001b[0;36m<module>\u001b[1;34m\u001b[0m\n\u001b[0;32m      1\u001b[0m \u001b[0mname\u001b[0m\u001b[1;33m=\u001b[0m\u001b[1;34m'tushar'\u001b[0m\u001b[1;33m\u001b[0m\u001b[1;33m\u001b[0m\u001b[0m\n\u001b[1;32m----> 2\u001b[1;33m \u001b[0mprint\u001b[0m\u001b[1;33m(\u001b[0m\u001b[1;34m\"hi my name is {} and my age is {} and i am from {}\"\u001b[0m\u001b[1;33m.\u001b[0m\u001b[0mformat\u001b[0m\u001b[1;33m(\u001b[0m\u001b[0mname\u001b[0m\u001b[1;33m)\u001b[0m\u001b[1;33m)\u001b[0m\u001b[1;33m\u001b[0m\u001b[1;33m\u001b[0m\u001b[0m\n\u001b[0m",
      "\u001b[1;31mIndexError\u001b[0m: Replacement index 1 out of range for positional args tuple"
     ]
    }
   ],
   "source": [
    "name='tushar'\n",
    "print(\"hi my name is {} and my age is {} and i am from {}\".format(name))"
   ]
  },
  {
   "cell_type": "code",
   "execution_count": 22,
   "id": "45afb391",
   "metadata": {},
   "outputs": [
    {
     "name": "stdout",
     "output_type": "stream",
     "text": [
      "i am going to the park now\n"
     ]
    }
   ],
   "source": [
    "# formating using %s, .format() and f\n",
    "print('i am %s to the %s now'%('going','park'))"
   ]
  },
  {
   "cell_type": "code",
   "execution_count": 29,
   "id": "5f057ad7",
   "metadata": {},
   "outputs": [
    {
     "name": "stdout",
     "output_type": "stream",
     "text": [
      "i am tushar and i am 15 years old\n"
     ]
    }
   ],
   "source": [
    "# formating using %s\n",
    "print('i am %s and i am %s years old'%('tushar','15'))"
   ]
  },
  {
   "cell_type": "code",
   "execution_count": 28,
   "id": "793edaba",
   "metadata": {},
   "outputs": [
    {
     "name": "stdout",
     "output_type": "stream",
     "text": [
      "i am tushar and i am 15 years old\n"
     ]
    }
   ],
   "source": [
    "name = 'tushar'\n",
    "age= '15'\n",
    "print(f'i am %s and i am %s years old'%(name,age))"
   ]
  },
  {
   "cell_type": "code",
   "execution_count": 35,
   "id": "f8429ddf",
   "metadata": {},
   "outputs": [
    {
     "name": "stdout",
     "output_type": "stream",
     "text": [
      "i am Tushar\n",
      "i am Tushar \t and i am cool\n",
      "i am 'Tushar'\n",
      "i am 'Tushar \\t and i am cool'\n",
      "i wrote 3.75 code today\n",
      "i wrote 3 code today\n"
     ]
    }
   ],
   "source": [
    "# formatting using %s and %r and %d\n",
    "print('i am %s'%('Tushar'))\n",
    "print('i am %s'%('Tushar \\t and i am cool'))\n",
    "print('i am %r'%('Tushar'))\n",
    "print('i am %r'%('Tushar \\t and i am cool'))\n",
    "print('i wrote %r code today'%3.75)\n",
    "print('i wrote %d code today'%3.75)"
   ]
  },
  {
   "cell_type": "code",
   "execution_count": 43,
   "id": "e5ad2f4c",
   "metadata": {},
   "outputs": [
    {
     "name": "stdout",
     "output_type": "stream",
     "text": [
      "Floating point numbers:     61.14\n",
      "my name is tushar and my age is 14.45 and my book name is 'harry potter' and 3\n"
     ]
    }
   ],
   "source": [
    "# 5.2f % format also multiple formating\n",
    "print('Floating point numbers:%10.2f' %(61.144))\n",
    "print('my name is %s and my age is %3.2f and my book name is %r and %d' %('tushar',14.445,'harry potter',3.22))"
   ]
  },
  {
   "cell_type": "code",
   "execution_count": 53,
   "id": "0efb455b",
   "metadata": {},
   "outputs": [
    {
     "name": "stdout",
     "output_type": "stream",
     "text": [
      "my name is tushar and my age is 14.\n",
      "the scary brown fox.\n",
      "First: 2, second: babu, Third: 2.2\n",
      "First: abu, second: abu, Third: abu\n"
     ]
    }
   ],
   "source": [
    "# formating using .format\n",
    "\n",
    "print('my name is {} and my age is {}.'. format('tushar','14'))\n",
    "print(\"the {1} {0} {2}.\".format('brown','scary','fox'))\n",
    "print('First: {a}, second: {b}, Third: {c}'.format(a=2,b='babu',c=2.2))\n",
    "print('First: {a}, second: {a}, Third: {a}'.format(a='abu',b='babu',c='cacu'))\n"
   ]
  },
  {
   "cell_type": "code",
   "execution_count": 22,
   "id": "f81680d2",
   "metadata": {},
   "outputs": [
    {
     "name": "stdout",
     "output_type": "stream",
     "text": [
      "tanu......|...manu...|.dhanu\n"
     ]
    }
   ],
   "source": [
    "# padding, allignment and percision using .format \n",
    "\n",
    "print('{0:.<10}|{1:.^10}|{2:.>6}'.format('tanu','manu','dhanu'))"
   ]
  },
  {
   "cell_type": "code",
   "execution_count": 87,
   "id": "98da1178",
   "metadata": {},
   "outputs": [
    {
     "name": "stdout",
     "output_type": "stream",
     "text": [
      "my age is: 14.123\n",
      "my age is:      14.1\n"
     ]
    }
   ],
   "source": [
    "# using f as formating \n",
    "age=14.123\n",
    "print(f'my age is: {age:{5}.{7}}')\n",
    "print(f\"my age is:{age:{10}.{3}}\")"
   ]
  },
  {
   "cell_type": "code",
   "execution_count": 93,
   "id": "f0ab8d7f",
   "metadata": {},
   "outputs": [
    {
     "name": "stdout",
     "output_type": "stream",
     "text": [
      "At index 0 the letter is a\n",
      "At index 1 the letter is b\n",
      "At index 2 the letter is c\n",
      "At index 3 the letter is d\n",
      "At index 4 the letter is e\n"
     ]
    }
   ],
   "source": [
    "# enumerate\n",
    "\n",
    "for a,b in enumerate('abcde'):\n",
    "    print(\"At index {} the letter is {}\".format(a,b))"
   ]
  },
  {
   "cell_type": "code",
   "execution_count": 94,
   "id": "5b88c316",
   "metadata": {},
   "outputs": [
    {
     "data": {
      "text/plain": [
       "[(0, 'a'), (1, 'b'), (2, 'c'), (3, 'd'), (4, 'e')]"
      ]
     },
     "execution_count": 94,
     "metadata": {},
     "output_type": "execute_result"
    }
   ],
   "source": [
    "list(enumerate('abcde'))"
   ]
  },
  {
   "cell_type": "code",
   "execution_count": 99,
   "id": "a9fdc87f",
   "metadata": {},
   "outputs": [
    {
     "data": {
      "text/plain": [
       "True"
      ]
     },
     "execution_count": 99,
     "metadata": {},
     "output_type": "execute_result"
    }
   ],
   "source": [
    "'x' in ['x','y','z']"
   ]
  },
  {
   "cell_type": "code",
   "execution_count": 100,
   "id": "dc8165d4",
   "metadata": {},
   "outputs": [
    {
     "data": {
      "text/plain": [
       "False"
      ]
     },
     "execution_count": 100,
     "metadata": {},
     "output_type": "execute_result"
    }
   ],
   "source": [
    "'x' not in ['x','y','z']"
   ]
  },
  {
   "cell_type": "code",
   "execution_count": 102,
   "id": "8a383210",
   "metadata": {},
   "outputs": [
    {
     "name": "stdout",
     "output_type": "stream",
     "text": [
      "10\n",
      "100\n"
     ]
    }
   ],
   "source": [
    "mylist = [10,20,30,40,100]\n",
    "print(min(mylist))\n",
    "print(max(mylist))"
   ]
  },
  {
   "cell_type": "code",
   "execution_count": 2,
   "id": "f89de14a",
   "metadata": {},
   "outputs": [],
   "source": [
    "# list comprehensions\n",
    "\n",
    "abc = [x for x in ('abce')]"
   ]
  },
  {
   "cell_type": "code",
   "execution_count": 3,
   "id": "421f32bc",
   "metadata": {},
   "outputs": [
    {
     "data": {
      "text/plain": [
       "['a', 'b', 'c', 'e']"
      ]
     },
     "execution_count": 3,
     "metadata": {},
     "output_type": "execute_result"
    }
   ],
   "source": [
    "abc"
   ]
  },
  {
   "cell_type": "code",
   "execution_count": 8,
   "id": "185dd7f5",
   "metadata": {},
   "outputs": [],
   "source": [
    "abc = [x**2 for x in range(0,11) if x %2 ==0]"
   ]
  },
  {
   "cell_type": "code",
   "execution_count": 9,
   "id": "9e1860e3",
   "metadata": {},
   "outputs": [
    {
     "data": {
      "text/plain": [
       "[0, 4, 16, 36, 64, 100]"
      ]
     },
     "execution_count": 9,
     "metadata": {},
     "output_type": "execute_result"
    }
   ],
   "source": [
    "abc"
   ]
  },
  {
   "cell_type": "code",
   "execution_count": 12,
   "id": "35a2f902",
   "metadata": {},
   "outputs": [
    {
     "name": "stdout",
     "output_type": "stream",
     "text": [
      "[4.285714285714286, 8.571428571428571, 12.857142857142856, 17.142857142857142]\n"
     ]
    }
   ],
   "source": [
    "abc = [10,20,30,40]\n",
    "cba = [(3/7)*x for x in abc ]\n",
    "print(cba)"
   ]
  },
  {
   "cell_type": "code",
   "execution_count": null,
   "id": "7c0272d0",
   "metadata": {},
   "outputs": [],
   "source": []
  }
 ],
 "metadata": {
  "kernelspec": {
   "display_name": "Python 3 (ipykernel)",
   "language": "python",
   "name": "python3"
  },
  "language_info": {
   "codemirror_mode": {
    "name": "ipython",
    "version": 3
   },
   "file_extension": ".py",
   "mimetype": "text/x-python",
   "name": "python",
   "nbconvert_exporter": "python",
   "pygments_lexer": "ipython3",
   "version": "3.9.7"
  }
 },
 "nbformat": 4,
 "nbformat_minor": 5
}

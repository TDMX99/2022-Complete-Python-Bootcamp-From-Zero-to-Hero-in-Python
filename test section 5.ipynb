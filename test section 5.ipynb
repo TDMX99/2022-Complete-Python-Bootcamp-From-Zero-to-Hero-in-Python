{
 "cells": [
  {
   "cell_type": "code",
   "execution_count": null,
   "id": "7f6f62b9",
   "metadata": {},
   "outputs": [],
   "source": [
    "# question 1\n",
    "st = 'Print only the words that start with s in this sentence'\n",
    "st.split()\n",
    "for item in st.split():\n",
    "    if item[0]== 's':\n",
    "        print(item)"
   ]
  },
  {
   "cell_type": "code",
   "execution_count": null,
   "id": "108c144a",
   "metadata": {},
   "outputs": [],
   "source": [
    "# question 2\n",
    "abc = list(x for x in range(0,11) if x%2 == 0)\n",
    "print(abc)"
   ]
  },
  {
   "cell_type": "code",
   "execution_count": null,
   "id": "382b2776",
   "metadata": {},
   "outputs": [],
   "source": [
    "# question 3\n",
    "abc = list(x for x in range(1,51) if x%3 == 0 and x%5 == 0)\n",
    "print (abc)"
   ]
  },
  {
   "cell_type": "code",
   "execution_count": 6,
   "id": "9ee35a26",
   "metadata": {},
   "outputs": [
    {
     "name": "stdout",
     "output_type": "stream",
     "text": [
      "odd    |Print    |   5\n",
      "odd    |every    |   5\n",
      "even   |word     |   4\n",
      "even   |in       |   2\n",
      "even   |this     |   4\n",
      "even   |sentence |   8\n",
      "even   |that     |   4\n",
      "odd    |has      |   3\n",
      "even   |an       |   2\n",
      "even   |even     |   4\n",
      "even   |number   |   6\n",
      "even   |of       |   2\n",
      "odd    |letters  |   7\n"
     ]
    }
   ],
   "source": [
    "# question 4\n",
    "st = 'Print every word in this sentence that has an even number of letters'\n",
    "string = \"\"\n",
    "for x in st.split():\n",
    "    if len(x)%2 == 0:\n",
    "        print('{0:7}|{1:9}|{2:4}'.format('even', x, len(x)))\n",
    "        string+=('{0:7}|{1:9}|{2:4}'.format('even', x, len(x)))+'\\n'\n",
    "    else:\n",
    "        print('{0:7}|{1:9}|{2:4}'.format('odd',x,  len(x)))\n",
    "        string+=('{0:7}|{1:9}|{2:4}'.format('odd',x,  len(x)))+'\\n'\n",
    "              \n",
    "    \n",
    "     \n"
   ]
  },
  {
   "cell_type": "code",
   "execution_count": null,
   "id": "1b0adb19",
   "metadata": {},
   "outputs": [],
   "source": [
    "print(string)"
   ]
  },
  {
   "cell_type": "code",
   "execution_count": null,
   "id": "667aa749",
   "metadata": {},
   "outputs": [],
   "source": [
    "# question 5\n",
    "int1= list(range(1,101))\n",
    "\n",
    "for x in int1:\n",
    "    if x % 3 == 0 and x % 5 == 0:\n",
    "        print('{0:12}|{1:3}'.format('dONO SE HE',x))\n",
    "    elif x%3==0:\n",
    "        print('{0:12}|{1:3}'.format('Fizz',x))\n",
    "    elif x%5==0:\n",
    "        print('{0:12}|{1:3}'.format('Five se he',x))"
   ]
  },
  {
   "cell_type": "code",
   "execution_count": null,
   "id": "658dde8d",
   "metadata": {},
   "outputs": [],
   "source": [
    "st = 'Create a list of the first letters of every word in this string'\n",
    "st.split()\n",
    "for x in boog:\n",
    "    \n",
    "    "
   ]
  },
  {
   "cell_type": "code",
   "execution_count": null,
   "id": "d85af8f1",
   "metadata": {},
   "outputs": [],
   "source": [
    "st = 'Create a list of the first letters of every word in this string'\n",
    "boogy=list(x[0] for x in boog)"
   ]
  },
  {
   "cell_type": "code",
   "execution_count": null,
   "id": "30d5da16",
   "metadata": {},
   "outputs": [],
   "source": [
    "boogy"
   ]
  },
  {
   "cell_type": "code",
   "execution_count": 2,
   "id": "f9f80db4",
   "metadata": {},
   "outputs": [
    {
     "name": "stdout",
     "output_type": "stream",
     "text": [
      "word  this is even\n",
      "in  this is even\n",
      "this  this is even\n",
      "sentence  this is even\n",
      "that  this is even\n",
      "an  this is even\n",
      "even  this is even\n",
      "number  this is even\n",
      "of  this is even\n"
     ]
    }
   ],
   "source": [
    "st = 'Print every word in this sentence that has an even number of letters'\n",
    "for x in st.split():\n",
    "    if len(x)%2 == 0:\n",
    "        print(x + '  this is even')"
   ]
  },
  {
   "cell_type": "code",
   "execution_count": 1,
   "id": "ca50fe3d",
   "metadata": {},
   "outputs": [
    {
     "data": {
      "text/plain": [
       "'C:\\\\Users\\\\tusha\\\\OneDrive\\\\Desktop\\\\My Python Stuff'"
      ]
     },
     "execution_count": 1,
     "metadata": {},
     "output_type": "execute_result"
    }
   ],
   "source": [
    "pwd"
   ]
  },
  {
   "cell_type": "code",
   "execution_count": null,
   "id": "be8939d8",
   "metadata": {},
   "outputs": [],
   "source": []
  }
 ],
 "metadata": {
  "kernelspec": {
   "display_name": "Python 3 (ipykernel)",
   "language": "python",
   "name": "python3"
  },
  "language_info": {
   "codemirror_mode": {
    "name": "ipython",
    "version": 3
   },
   "file_extension": ".py",
   "mimetype": "text/x-python",
   "name": "python",
   "nbconvert_exporter": "python",
   "pygments_lexer": "ipython3",
   "version": "3.9.7"
  }
 },
 "nbformat": 4,
 "nbformat_minor": 5
}
